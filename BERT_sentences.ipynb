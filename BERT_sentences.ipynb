{
 "cells": [
  {
   "cell_type": "code",
   "execution_count": 5,
   "id": "1d501d95-5d11-4a1a-a118-14c06aa88f0d",
   "metadata": {
    "scrolled": true
   },
   "outputs": [],
   "source": [
    "import random\n",
    "import pandas as pd\n",
    "import torch\n",
    "from transformers import BertTokenizer, BertModel"
   ]
  },
  {
   "cell_type": "code",
   "execution_count": 39,
   "id": "93adab11-910a-4846-8d74-b2c4217005da",
   "metadata": {},
   "outputs": [],
   "source": [
    "dataset = pd.read_excel('data/test.xlsx')"
   ]
  },
  {
   "cell_type": "code",
   "execution_count": 25,
   "id": "b2429d2d-cfa4-44bc-8f04-317656f203b4",
   "metadata": {},
   "outputs": [
    {
     "data": {
      "text/html": [
       "<div>\n",
       "<style scoped>\n",
       "    .dataframe tbody tr th:only-of-type {\n",
       "        vertical-align: middle;\n",
       "    }\n",
       "\n",
       "    .dataframe tbody tr th {\n",
       "        vertical-align: top;\n",
       "    }\n",
       "\n",
       "    .dataframe thead th {\n",
       "        text-align: right;\n",
       "    }\n",
       "</style>\n",
       "<table border=\"1\" class=\"dataframe\">\n",
       "  <thead>\n",
       "    <tr style=\"text-align: right;\">\n",
       "      <th></th>\n",
       "      <th>URL</th>\n",
       "      <th>Title</th>\n",
       "      <th>Description</th>\n",
       "      <th>Article Text</th>\n",
       "      <th>Keywords</th>\n",
       "      <th>Tag</th>\n",
       "    </tr>\n",
       "  </thead>\n",
       "  <tbody>\n",
       "    <tr>\n",
       "      <th>0</th>\n",
       "      <td>https://kino.mail.ru/news/61905-serial-na-viho...</td>\n",
       "      <td>Сериал на выходные: едкая детективная комедия ...</td>\n",
       "      <td>Рассказываем о густонаселенном сериале «Прести...</td>\n",
       "      <td>В элитном поселке, где обитают сплошь богачи, ...</td>\n",
       "      <td>СТАТЬЯ, ЧТО ПОСМОТРЕТЬ, ДРАМА, КОМЕДИЯ, ДЕТЕКТИВ</td>\n",
       "      <td>Кино</td>\n",
       "    </tr>\n",
       "    <tr>\n",
       "      <th>1</th>\n",
       "      <td>https://kino.mail.ru/news/61913-film-na-vecher...</td>\n",
       "      <td>Фильм на вечер: атмосферный фильм-катастрофа с...</td>\n",
       "      <td>Погружаемся в апокалиптический триллер о франц...</td>\n",
       "      <td>Мир охвачен паникой — повсюду наблюдаются аном...</td>\n",
       "      <td>СТАТЬЯ, ЧТО ПОСМОТРЕТЬ, ДРАМА, ТРИЛЛЕР, ФАНТАС...</td>\n",
       "      <td>Кино</td>\n",
       "    </tr>\n",
       "    <tr>\n",
       "      <th>2</th>\n",
       "      <td>https://kino.mail.ru/news/61900-treiler-dnya-m...</td>\n",
       "      <td>Трейлер дня: Милла Йовович возвращается в трил...</td>\n",
       "      <td>Актриса снялась в новом экшене про пост-апокал...</td>\n",
       "      <td>Вышел дублированный трейлер фантастического тр...</td>\n",
       "      <td>СТАТЬЯ, ЧТО ПОСМОТРЕТЬ</td>\n",
       "      <td>Кино</td>\n",
       "    </tr>\n",
       "    <tr>\n",
       "      <th>3</th>\n",
       "      <td>https://kino.mail.ru/news/61871-film-na-vecher...</td>\n",
       "      <td>Фильм на вечер: милая зомби-комедия со звездой...</td>\n",
       "      <td>Заряжаемся хулиганским настроением за просмотр...</td>\n",
       "      <td>Оставшись сиротой, юный Оливер оказывается в т...</td>\n",
       "      <td>СТАТЬЯ, ЧТО ПОСМОТРЕТЬ, КОМЕДИЯ, УЖАСЫ</td>\n",
       "      <td>Кино</td>\n",
       "    </tr>\n",
       "    <tr>\n",
       "      <th>4</th>\n",
       "      <td>https://kino.mail.ru/news/61854-treiler-dnya-7...</td>\n",
       "      <td>Трейлер дня: 79-летний Майкл Дуглас играет Бен...</td>\n",
       "      <td>В сериале «Франклин» актер в роли отца-основат...</td>\n",
       "      <td>Вышел трейлер костюмированной 8-серийной драмы...</td>\n",
       "      <td>СТАТЬЯ, ЧТО ПОСМОТРЕТЬ</td>\n",
       "      <td>Кино</td>\n",
       "    </tr>\n",
       "  </tbody>\n",
       "</table>\n",
       "</div>"
      ],
      "text/plain": [
       "                                                 URL  \\\n",
       "0  https://kino.mail.ru/news/61905-serial-na-viho...   \n",
       "1  https://kino.mail.ru/news/61913-film-na-vecher...   \n",
       "2  https://kino.mail.ru/news/61900-treiler-dnya-m...   \n",
       "3  https://kino.mail.ru/news/61871-film-na-vecher...   \n",
       "4  https://kino.mail.ru/news/61854-treiler-dnya-7...   \n",
       "\n",
       "                                               Title  \\\n",
       "0  Сериал на выходные: едкая детективная комедия ...   \n",
       "1  Фильм на вечер: атмосферный фильм-катастрофа с...   \n",
       "2  Трейлер дня: Милла Йовович возвращается в трил...   \n",
       "3  Фильм на вечер: милая зомби-комедия со звездой...   \n",
       "4  Трейлер дня: 79-летний Майкл Дуглас играет Бен...   \n",
       "\n",
       "                                         Description  \\\n",
       "0  Рассказываем о густонаселенном сериале «Прести...   \n",
       "1  Погружаемся в апокалиптический триллер о франц...   \n",
       "2  Актриса снялась в новом экшене про пост-апокал...   \n",
       "3  Заряжаемся хулиганским настроением за просмотр...   \n",
       "4  В сериале «Франклин» актер в роли отца-основат...   \n",
       "\n",
       "                                        Article Text  \\\n",
       "0  В элитном поселке, где обитают сплошь богачи, ...   \n",
       "1  Мир охвачен паникой — повсюду наблюдаются аном...   \n",
       "2  Вышел дублированный трейлер фантастического тр...   \n",
       "3  Оставшись сиротой, юный Оливер оказывается в т...   \n",
       "4  Вышел трейлер костюмированной 8-серийной драмы...   \n",
       "\n",
       "                                            Keywords   Tag  \n",
       "0   СТАТЬЯ, ЧТО ПОСМОТРЕТЬ, ДРАМА, КОМЕДИЯ, ДЕТЕКТИВ  Кино  \n",
       "1  СТАТЬЯ, ЧТО ПОСМОТРЕТЬ, ДРАМА, ТРИЛЛЕР, ФАНТАС...  Кино  \n",
       "2                             СТАТЬЯ, ЧТО ПОСМОТРЕТЬ  Кино  \n",
       "3             СТАТЬЯ, ЧТО ПОСМОТРЕТЬ, КОМЕДИЯ, УЖАСЫ  Кино  \n",
       "4                             СТАТЬЯ, ЧТО ПОСМОТРЕТЬ  Кино  "
      ]
     },
     "execution_count": 25,
     "metadata": {},
     "output_type": "execute_result"
    }
   ],
   "source": [
    "dataset.head()"
   ]
  },
  {
   "cell_type": "code",
   "execution_count": 26,
   "id": "e8ade9be-3c24-4f8f-aa9a-6a268f25a884",
   "metadata": {},
   "outputs": [],
   "source": [
    "# Set a random seed\n",
    "random_seed = 42\n",
    "random.seed(random_seed)\n",
    " \n",
    "# Set a random seed for PyTorch (for GPU as well)\n",
    "torch.manual_seed(random_seed)\n",
    "if torch.cuda.is_available():\n",
    "    torch.cuda.manual_seed_all(random_seed)"
   ]
  },
  {
   "cell_type": "code",
   "execution_count": 27,
   "id": "3ca6bdc9-939f-4c98-96e0-d8a1faa7a1f2",
   "metadata": {},
   "outputs": [],
   "source": [
    "tokenizer = BertTokenizer.from_pretrained('bert-base-multilingual-cased')\n",
    "model = BertModel.from_pretrained('bert-base-multilingual-cased')"
   ]
  },
  {
   "cell_type": "code",
   "execution_count": 40,
   "id": "b35f8f40-14c4-47e0-a8ad-c4acafba3a98",
   "metadata": {},
   "outputs": [],
   "source": [
    "# Function to generate embeddings for each description\n",
    "def generate_embeddings(description):\n",
    "    # Tokenize and encode text\n",
    "    encoding = tokenizer.encode_plus(\n",
    "        description,               # Input text\n",
    "        padding=True,             # Pad to the maximum sequence length\n",
    "        truncation=True,          # Truncate to the maximum sequence length if necessary\n",
    "        return_tensors='pt',      # Return PyTorch tensors\n",
    "        add_special_tokens=True   # Add special tokens CLS and SEP\n",
    "    )\n",
    "    \n",
    "    input_ids = encoding['input_ids']        # Token IDs\n",
    "    attention_mask = encoding['attention_mask']  # Attention mask\n",
    "\n",
    "    # Generate embeddings using BERT model\n",
    "    with torch.no_grad():\n",
    "        outputs = model(input_ids, attention_mask=attention_mask)\n",
    "        word_embeddings = outputs.last_hidden_state  # This contains the embeddings\n",
    "    \n",
    "    # Compute the average of word embeddings to get the sentence embedding\n",
    "    sentence_embedding = word_embeddings.mean(dim=1)  # Average pooling along the sequence length dimension\n",
    "    \n",
    "    return sentence_embedding\n"
   ]
  },
  {
   "cell_type": "code",
   "execution_count": 41,
   "id": "f27b520f-caa7-4c93-9fd8-b683c62076e0",
   "metadata": {},
   "outputs": [
    {
     "name": "stdout",
     "output_type": "stream",
     "text": [
      "CPU times: user 478 ms, sys: 411 ms, total: 889 ms\n",
      "Wall time: 164 ms\n"
     ]
    }
   ],
   "source": [
    "%%time\n",
    "\n",
    "# Apply the function to generate embeddings for each description\n",
    "dataset['Description_embedding'] = dataset['Description'].apply(generate_embeddings)"
   ]
  },
  {
   "cell_type": "code",
   "execution_count": 43,
   "id": "70a51ef9-2933-4741-9075-ba2301258231",
   "metadata": {},
   "outputs": [
    {
     "data": {
      "text/plain": [
       "torch.Size([1, 768])"
      ]
     },
     "execution_count": 43,
     "metadata": {},
     "output_type": "execute_result"
    }
   ],
   "source": [
    "dataset.Description_embedding[1].shape"
   ]
  },
  {
   "cell_type": "code",
   "execution_count": 44,
   "id": "6cef9cc1-ae9a-4716-869d-cd9c35e5c6f0",
   "metadata": {},
   "outputs": [],
   "source": [
    "res1 = generate_embeddings(['Я астронавт в космическом пространстве. Я постигаю мироздание и пью пиво.'])"
   ]
  },
  {
   "cell_type": "code",
   "execution_count": 38,
   "id": "e09ed37b-0d43-45cb-808d-d083419c67da",
   "metadata": {},
   "outputs": [
    {
     "data": {
      "text/plain": [
       "torch.Size([1, 768])"
      ]
     },
     "execution_count": 38,
     "metadata": {},
     "output_type": "execute_result"
    }
   ],
   "source": [
    "res1.shape"
   ]
  },
  {
   "cell_type": "code",
   "execution_count": null,
   "id": "d138a3b7-224e-44ec-869a-059bce32eabe",
   "metadata": {},
   "outputs": [],
   "source": [
    "res2 = generate_embeddings(['Я астронавт в космическом пространстве. Я постигаю мироздание и пью пиво.'])"
   ]
  }
 ],
 "metadata": {
  "kernelspec": {
   "display_name": "Python 3 (ipykernel)",
   "language": "python",
   "name": "python3"
  },
  "language_info": {
   "codemirror_mode": {
    "name": "ipython",
    "version": 3
   },
   "file_extension": ".py",
   "mimetype": "text/x-python",
   "name": "python",
   "nbconvert_exporter": "python",
   "pygments_lexer": "ipython3",
   "version": "3.12.2"
  }
 },
 "nbformat": 4,
 "nbformat_minor": 5
}
