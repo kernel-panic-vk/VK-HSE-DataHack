{
 "cells": [
  {
   "cell_type": "code",
   "execution_count": 2,
   "id": "dfa30b1e-3320-4918-b1c6-6186adca1375",
   "metadata": {
    "tags": []
   },
   "outputs": [],
   "source": [
    "import pandas as pd"
   ]
  },
  {
   "cell_type": "code",
   "execution_count": 3,
   "id": "25033cdf-beea-4183-b05f-79ad75dfed62",
   "metadata": {
    "tags": []
   },
   "outputs": [],
   "source": [
    "# !pip install langchain openai langchain_community langchain_openai huggingface_hub"
   ]
  },
  {
   "cell_type": "code",
   "execution_count": 4,
   "id": "1b533042-d82e-42d1-ac6d-ebf57fd8821f",
   "metadata": {
    "tags": []
   },
   "outputs": [],
   "source": [
    "# data = pd.read_excel('../data/data.mail.xlsx').copy()\n",
    "# data2 = pd.read_excel('../data/data.mail.xlsx',sheet_name = 1).copy()\n",
    "# data3 = pd.read_excel('../data/data.mail.xlsx',sheet_name = 2).copy()\n",
    "# data4 = pd.read_excel('../data/data.mail.xlsx',sheet_name = 3).copy()\n",
    "# data = pd.concat([data,data2,data3,data4])  #сохраняем все article text в csv"
   ]
  },
  {
   "cell_type": "code",
   "execution_count": 5,
   "id": "2c64d5a7-cc43-44f5-a87f-0686ed54cc26",
   "metadata": {
    "tags": []
   },
   "outputs": [],
   "source": [
    "data = pd.read_csv('dataset_with_NLP_discriptions.csv')"
   ]
  },
  {
   "cell_type": "code",
   "execution_count": 6,
   "id": "2a248b47-2918-418a-9176-200df57441f0",
   "metadata": {
    "tags": []
   },
   "outputs": [],
   "source": [
    "tags = [\n",
    "    \"Политика\",\n",
    "    \"Экономика\",\n",
    "    \"Общество\",\n",
    "    \"Закон и право\",\n",
    "    \"Кино\",\n",
    "    \"Телевидение\",\n",
    "    \"Персоны\",\n",
    "    \"События\",\n",
    "    \"Бренды\",\n",
    "    \"Наука\",\n",
    "    \"Гаджеты\",\n",
    "    \"Соцсети\",\n",
    "    \"Технологии\",\n",
    "    \"Опросы\",\n",
    "    \"Головоломки\",\n",
    "    \"Дом\",\n",
    "    \"Транспорт\",\n",
    "    \"Погода\",\n",
    "    \"Рецепты\",\n",
    "    \"Мода\",\n",
    "    \"Красота\",\n",
    "    \"Здоровье\"\n",
    "]\n",
    "tags_s = ', '.join(tags)"
   ]
  },
  {
   "cell_type": "code",
   "execution_count": 7,
   "id": "1aa53a68-db0d-4d07-b079-de4eb39121a5",
   "metadata": {
    "tags": []
   },
   "outputs": [],
   "source": [
    "from langchain_core.prompts import ChatPromptTemplate\n",
    "from langchain_openai import ChatOpenAI\n",
    "\n",
    "base_url = \"http://mistral.vkcloud.eazify.net:8000/v1\"\n",
    "base_url = \"http://hackllm.vkcloud.eazify.net:8000/v1\"\n",
    "base_url = \"http://shwars.vkcloud.eazify.net:8000/v1\"\n",
    "\n",
    "chat = ChatOpenAI(api_key=\"<key>\",\n",
    "                model = \"tgi\",\n",
    "                openai_api_base = base_url,\n",
    "                temperature = 0.001)\n",
    "\n",
    "instruct = \"\"\"\n",
    "Отсортируй список тэгов в квадратных скобках так, чтобы сначала шли те тэги, которые лучше всего \n",
    "описывают приведённую ниже в тройных обратных кавычках статью.\n",
    "\n",
    "Список тэгов: [{tags}]\n",
    "Статья: ```{article}```\"\n",
    "\"\"\"\n",
    "\n",
    "chat_template = ChatPromptTemplate.from_messages(\n",
    "    [\n",
    "        (\"system\", \"\"),\n",
    "        (\"human\", instruct),\n",
    "    ]\n",
    ")"
   ]
  },
  {
   "cell_type": "code",
   "execution_count": 8,
   "id": "37167afb-1306-45d9-8788-8e8adf860ae0",
   "metadata": {
    "tags": []
   },
   "outputs": [],
   "source": [
    "def purify(resp):\n",
    "    tag_names = []\n",
    "    tag_indicies = []\n",
    "    for tag in tags:\n",
    "        if tag in resp:\n",
    "            tag_names.append(tag)\n",
    "            tag_indicies.append(resp.index(tag))\n",
    "    return [x for _,x in sorted(zip(tag_indicies,tag_names))]"
   ]
  },
  {
   "cell_type": "code",
   "execution_count": 9,
   "id": "88aad40b-eb46-4c06-b791-11890e274773",
   "metadata": {
    "tags": []
   },
   "outputs": [],
   "source": [
    "# purify(\"Выход: [Здоровье, Наука, Общество]\\nОписание:\\n1. Здоровье\")"
   ]
  },
  {
   "cell_type": "code",
   "execution_count": 10,
   "id": "11fec812-861b-43b6-9220-827971e69f40",
   "metadata": {
    "tags": []
   },
   "outputs": [
    {
     "name": "stdout",
     "output_type": "stream",
     "text": [
      "start\n"
     ]
    },
    {
     "name": "stderr",
     "output_type": "stream",
     "text": [
      "  1%|          | 1/100 [00:06<10:20,  6.27s/it]"
     ]
    },
    {
     "name": "stdout",
     "output_type": "stream",
     "text": [
      "['Кино', 'Персоны', 'События']\n"
     ]
    },
    {
     "name": "stderr",
     "output_type": "stream",
     "text": [
      "  2%|▏         | 2/100 [00:09<06:57,  4.26s/it]"
     ]
    },
    {
     "name": "stdout",
     "output_type": "stream",
     "text": [
      "['Кино', 'События', 'Общество']\n"
     ]
    },
    {
     "name": "stderr",
     "output_type": "stream",
     "text": [
      "  3%|▎         | 3/100 [00:14<07:45,  4.80s/it]"
     ]
    },
    {
     "name": "stdout",
     "output_type": "stream",
     "text": [
      "['Кино', 'Телевидение', 'Персоны']\n"
     ]
    },
    {
     "name": "stderr",
     "output_type": "stream",
     "text": [
      "  4%|▍         | 4/100 [00:18<07:17,  4.56s/it]"
     ]
    },
    {
     "name": "stdout",
     "output_type": "stream",
     "text": [
      "['Кино', 'Телевидение', 'Персоны']\n"
     ]
    },
    {
     "name": "stderr",
     "output_type": "stream",
     "text": [
      "  5%|▌         | 5/100 [00:26<09:13,  5.83s/it]"
     ]
    },
    {
     "name": "stdout",
     "output_type": "stream",
     "text": [
      "['Кино', 'Персоны', 'Телевидение']\n"
     ]
    },
    {
     "name": "stderr",
     "output_type": "stream",
     "text": [
      "  6%|▌         | 6/100 [00:29<07:11,  4.59s/it]"
     ]
    },
    {
     "name": "stdout",
     "output_type": "stream",
     "text": [
      "['Кино', 'Персоны', 'События']\n"
     ]
    },
    {
     "name": "stderr",
     "output_type": "stream",
     "text": [
      "  7%|▋         | 7/100 [00:33<07:16,  4.70s/it]"
     ]
    },
    {
     "name": "stdout",
     "output_type": "stream",
     "text": [
      "['Кино', 'События', 'Здоровье']\n"
     ]
    },
    {
     "name": "stderr",
     "output_type": "stream",
     "text": [
      "  8%|▊         | 8/100 [00:40<07:57,  5.19s/it]"
     ]
    },
    {
     "name": "stdout",
     "output_type": "stream",
     "text": [
      "['Кино', 'Персоны', 'События']\n"
     ]
    },
    {
     "name": "stderr",
     "output_type": "stream",
     "text": [
      "  9%|▉         | 9/100 [00:48<09:13,  6.08s/it]"
     ]
    },
    {
     "name": "stdout",
     "output_type": "stream",
     "text": [
      "['Кино', 'Персоны', 'События']\n"
     ]
    },
    {
     "name": "stderr",
     "output_type": "stream",
     "text": [
      " 10%|█         | 10/100 [00:56<10:02,  6.69s/it]"
     ]
    },
    {
     "name": "stdout",
     "output_type": "stream",
     "text": [
      "['Кино', 'Персоны', 'События']\n"
     ]
    },
    {
     "name": "stderr",
     "output_type": "stream",
     "text": [
      " 11%|█         | 11/100 [01:04<10:32,  7.11s/it]"
     ]
    },
    {
     "name": "stdout",
     "output_type": "stream",
     "text": [
      "['Кино', 'Телевидение', 'Персоны']\n",
      "[]\n"
     ]
    },
    {
     "name": "stderr",
     "output_type": "stream",
     "text": [
      " 13%|█▎        | 13/100 [01:12<08:14,  5.68s/it]"
     ]
    },
    {
     "name": "stdout",
     "output_type": "stream",
     "text": [
      "['Кино', 'Персоны', 'События']\n"
     ]
    },
    {
     "name": "stderr",
     "output_type": "stream",
     "text": [
      " 14%|█▍        | 14/100 [01:20<08:58,  6.26s/it]"
     ]
    },
    {
     "name": "stdout",
     "output_type": "stream",
     "text": [
      "['Кино', 'Телевидение', 'Персоны']\n"
     ]
    },
    {
     "name": "stderr",
     "output_type": "stream",
     "text": [
      " 15%|█▌        | 15/100 [01:23<07:30,  5.30s/it]"
     ]
    },
    {
     "name": "stdout",
     "output_type": "stream",
     "text": [
      "['Кино', 'Телевидение', 'Персоны']\n",
      "[]\n"
     ]
    },
    {
     "name": "stderr",
     "output_type": "stream",
     "text": [
      " 17%|█▋        | 17/100 [01:31<06:39,  4.82s/it]"
     ]
    },
    {
     "name": "stdout",
     "output_type": "stream",
     "text": [
      "['Кино', 'Персоны', 'События']\n"
     ]
    },
    {
     "name": "stderr",
     "output_type": "stream",
     "text": [
      " 18%|█▊        | 18/100 [01:33<05:52,  4.30s/it]"
     ]
    },
    {
     "name": "stdout",
     "output_type": "stream",
     "text": [
      "['Кино', 'Персоны', 'События']\n"
     ]
    },
    {
     "name": "stderr",
     "output_type": "stream",
     "text": [
      " 19%|█▉        | 19/100 [01:39<06:09,  4.56s/it]"
     ]
    },
    {
     "name": "stdout",
     "output_type": "stream",
     "text": [
      "['Кино', 'Персоны', 'События']\n"
     ]
    },
    {
     "name": "stderr",
     "output_type": "stream",
     "text": [
      " 20%|██        | 20/100 [01:47<07:23,  5.55s/it]"
     ]
    },
    {
     "name": "stdout",
     "output_type": "stream",
     "text": [
      "['Кино', 'Персоны', 'События']\n"
     ]
    },
    {
     "name": "stderr",
     "output_type": "stream",
     "text": [
      " 21%|██        | 21/100 [01:52<07:04,  5.37s/it]"
     ]
    },
    {
     "name": "stdout",
     "output_type": "stream",
     "text": [
      "['Кино', 'Персоны', 'События']\n"
     ]
    },
    {
     "name": "stderr",
     "output_type": "stream",
     "text": [
      " 22%|██▏       | 22/100 [01:57<06:55,  5.33s/it]"
     ]
    },
    {
     "name": "stdout",
     "output_type": "stream",
     "text": [
      "['Кино', 'Телевидение', 'Персоны']\n"
     ]
    },
    {
     "name": "stderr",
     "output_type": "stream",
     "text": [
      " 23%|██▎       | 23/100 [02:04<07:32,  5.87s/it]"
     ]
    },
    {
     "name": "stdout",
     "output_type": "stream",
     "text": [
      "['Кино', 'Телевидение', 'Персоны']\n"
     ]
    },
    {
     "name": "stderr",
     "output_type": "stream",
     "text": [
      " 24%|██▍       | 24/100 [02:11<07:32,  5.96s/it]"
     ]
    },
    {
     "name": "stdout",
     "output_type": "stream",
     "text": [
      "['Кино', 'Здоровье', 'Общество']\n"
     ]
    },
    {
     "name": "stderr",
     "output_type": "stream",
     "text": [
      " 25%|██▌       | 25/100 [02:19<08:17,  6.63s/it]"
     ]
    },
    {
     "name": "stdout",
     "output_type": "stream",
     "text": [
      "['Политика', 'Экономика', 'Общество']\n"
     ]
    },
    {
     "name": "stderr",
     "output_type": "stream",
     "text": [
      " 26%|██▌       | 26/100 [02:25<08:02,  6.52s/it]"
     ]
    },
    {
     "name": "stdout",
     "output_type": "stream",
     "text": [
      "['Кино', 'Телевидение', 'Персоны']\n",
      "[]\n"
     ]
    },
    {
     "name": "stderr",
     "output_type": "stream",
     "text": [
      " 28%|██▊       | 28/100 [02:33<06:27,  5.38s/it]"
     ]
    },
    {
     "name": "stdout",
     "output_type": "stream",
     "text": [
      "['Кино', 'Телевидение', 'События']\n"
     ]
    },
    {
     "name": "stderr",
     "output_type": "stream",
     "text": [
      " 29%|██▉       | 29/100 [02:38<06:17,  5.32s/it]"
     ]
    },
    {
     "name": "stdout",
     "output_type": "stream",
     "text": [
      "['Кино', 'Персоны', 'События']\n"
     ]
    },
    {
     "name": "stderr",
     "output_type": "stream",
     "text": [
      " 30%|███       | 30/100 [02:45<06:38,  5.69s/it]"
     ]
    },
    {
     "name": "stdout",
     "output_type": "stream",
     "text": [
      "['Кино', 'Телевидение', 'Персоны']\n"
     ]
    },
    {
     "name": "stderr",
     "output_type": "stream",
     "text": [
      " 31%|███       | 31/100 [02:47<05:20,  4.64s/it]"
     ]
    },
    {
     "name": "stdout",
     "output_type": "stream",
     "text": [
      "['Кино', 'Телевидение', 'Персоны']\n"
     ]
    },
    {
     "name": "stderr",
     "output_type": "stream",
     "text": [
      " 32%|███▏      | 32/100 [02:55<06:19,  5.58s/it]"
     ]
    },
    {
     "name": "stdout",
     "output_type": "stream",
     "text": [
      "['Кино', 'Персоны', 'События']\n"
     ]
    },
    {
     "name": "stderr",
     "output_type": "stream",
     "text": [
      " 33%|███▎      | 33/100 [03:03<07:01,  6.30s/it]"
     ]
    },
    {
     "name": "stdout",
     "output_type": "stream",
     "text": [
      "['Кино', 'Персоны', 'Общество']\n"
     ]
    },
    {
     "name": "stderr",
     "output_type": "stream",
     "text": [
      " 34%|███▍      | 34/100 [03:11<07:29,  6.81s/it]"
     ]
    },
    {
     "name": "stdout",
     "output_type": "stream",
     "text": [
      "['Кино', 'Персоны', 'События']\n"
     ]
    },
    {
     "name": "stderr",
     "output_type": "stream",
     "text": [
      " 35%|███▌      | 35/100 [03:12<05:36,  5.17s/it]"
     ]
    },
    {
     "name": "stdout",
     "output_type": "stream",
     "text": [
      "['Кино', 'Телевидение', 'Персоны']\n"
     ]
    },
    {
     "name": "stderr",
     "output_type": "stream",
     "text": [
      " 36%|███▌      | 36/100 [03:21<06:29,  6.09s/it]"
     ]
    },
    {
     "name": "stdout",
     "output_type": "stream",
     "text": [
      "['Политика', 'Экономика', 'Общество']\n"
     ]
    },
    {
     "name": "stderr",
     "output_type": "stream",
     "text": [
      " 37%|███▋      | 37/100 [03:29<07:00,  6.67s/it]"
     ]
    },
    {
     "name": "stdout",
     "output_type": "stream",
     "text": [
      "['Кино', 'События', 'Персоны']\n"
     ]
    },
    {
     "name": "stderr",
     "output_type": "stream",
     "text": [
      " 38%|███▊      | 38/100 [03:31<05:30,  5.33s/it]"
     ]
    },
    {
     "name": "stdout",
     "output_type": "stream",
     "text": [
      "['Кино', 'Телевидение', 'Персоны']\n",
      "[]\n"
     ]
    },
    {
     "name": "stderr",
     "output_type": "stream",
     "text": [
      " 40%|████      | 40/100 [03:35<03:53,  3.89s/it]"
     ]
    },
    {
     "name": "stdout",
     "output_type": "stream",
     "text": [
      "['Кино', 'Телевидение', 'Персоны']\n"
     ]
    },
    {
     "name": "stderr",
     "output_type": "stream",
     "text": [
      " 41%|████      | 41/100 [03:43<04:50,  4.92s/it]"
     ]
    },
    {
     "name": "stdout",
     "output_type": "stream",
     "text": [
      "['Кино', 'Персоны', 'События']\n"
     ]
    },
    {
     "name": "stderr",
     "output_type": "stream",
     "text": [
      " 42%|████▏     | 42/100 [03:51<05:32,  5.74s/it]"
     ]
    },
    {
     "name": "stdout",
     "output_type": "stream",
     "text": [
      "['Кино', 'События', 'Персоны']\n"
     ]
    },
    {
     "name": "stderr",
     "output_type": "stream",
     "text": [
      " 43%|████▎     | 43/100 [03:56<05:05,  5.36s/it]"
     ]
    },
    {
     "name": "stdout",
     "output_type": "stream",
     "text": [
      "['Кино', 'Персоны', 'События']\n"
     ]
    },
    {
     "name": "stderr",
     "output_type": "stream",
     "text": [
      " 44%|████▍     | 44/100 [03:59<04:23,  4.70s/it]"
     ]
    },
    {
     "name": "stdout",
     "output_type": "stream",
     "text": [
      "['Кино', 'Персоны', 'События']\n"
     ]
    },
    {
     "name": "stderr",
     "output_type": "stream",
     "text": [
      " 45%|████▌     | 45/100 [04:07<05:10,  5.65s/it]"
     ]
    },
    {
     "name": "stdout",
     "output_type": "stream",
     "text": [
      "['Кино', 'Персоны', 'События']\n"
     ]
    },
    {
     "name": "stderr",
     "output_type": "stream",
     "text": [
      " 46%|████▌     | 46/100 [04:15<05:43,  6.36s/it]"
     ]
    },
    {
     "name": "stdout",
     "output_type": "stream",
     "text": [
      "['Кино', 'Общество', 'Персоны']\n"
     ]
    },
    {
     "name": "stderr",
     "output_type": "stream",
     "text": [
      " 47%|████▋     | 47/100 [04:23<06:02,  6.85s/it]"
     ]
    },
    {
     "name": "stdout",
     "output_type": "stream",
     "text": [
      "['Кино', 'Персоны', 'События']\n"
     ]
    },
    {
     "name": "stderr",
     "output_type": "stream",
     "text": [
      " 48%|████▊     | 48/100 [04:25<04:45,  5.49s/it]"
     ]
    },
    {
     "name": "stdout",
     "output_type": "stream",
     "text": [
      "['Кино', 'Персоны', 'События']\n"
     ]
    },
    {
     "name": "stderr",
     "output_type": "stream",
     "text": [
      " 49%|████▉     | 49/100 [04:29<04:14,  4.99s/it]"
     ]
    },
    {
     "name": "stdout",
     "output_type": "stream",
     "text": [
      "['Политика', 'Общество', 'Кино']\n"
     ]
    },
    {
     "name": "stderr",
     "output_type": "stream",
     "text": [
      " 50%|█████     | 50/100 [04:32<03:38,  4.37s/it]"
     ]
    },
    {
     "name": "stdout",
     "output_type": "stream",
     "text": [
      "['Кино', 'Телевидение', 'Персоны']\n",
      "[]\n"
     ]
    },
    {
     "name": "stderr",
     "output_type": "stream",
     "text": [
      " 52%|█████▏    | 52/100 [04:40<03:22,  4.22s/it]"
     ]
    },
    {
     "name": "stdout",
     "output_type": "stream",
     "text": [
      "['Кино', 'Персоны', 'События']\n"
     ]
    },
    {
     "name": "stderr",
     "output_type": "stream",
     "text": [
      " 53%|█████▎    | 53/100 [04:48<04:03,  5.17s/it]"
     ]
    },
    {
     "name": "stdout",
     "output_type": "stream",
     "text": [
      "['Кино', 'Телевидение', 'Персоны']\n",
      "[]\n",
      "[]\n"
     ]
    },
    {
     "name": "stderr",
     "output_type": "stream",
     "text": [
      " 56%|█████▌    | 56/100 [04:56<02:52,  3.93s/it]"
     ]
    },
    {
     "name": "stdout",
     "output_type": "stream",
     "text": [
      "['Кино', 'Персоны', 'События']\n",
      "[]\n",
      "[]\n"
     ]
    },
    {
     "name": "stderr",
     "output_type": "stream",
     "text": [
      " 59%|█████▉    | 59/100 [05:04<02:19,  3.41s/it]"
     ]
    },
    {
     "name": "stdout",
     "output_type": "stream",
     "text": [
      "['Кино', 'Персоны', 'События']\n"
     ]
    },
    {
     "name": "stderr",
     "output_type": "stream",
     "text": [
      " 60%|██████    | 60/100 [05:13<02:48,  4.22s/it]"
     ]
    },
    {
     "name": "stdout",
     "output_type": "stream",
     "text": [
      "['Кино', 'Персоны', 'События']\n"
     ]
    },
    {
     "name": "stderr",
     "output_type": "stream",
     "text": [
      " 61%|██████    | 61/100 [05:21<03:15,  5.01s/it]"
     ]
    },
    {
     "name": "stdout",
     "output_type": "stream",
     "text": [
      "['Кино', 'Телевидение', 'Персоны']\n"
     ]
    },
    {
     "name": "stderr",
     "output_type": "stream",
     "text": [
      " 62%|██████▏   | 62/100 [05:25<03:00,  4.75s/it]"
     ]
    },
    {
     "name": "stdout",
     "output_type": "stream",
     "text": [
      "['Кино', 'Персоны', 'События']\n"
     ]
    },
    {
     "name": "stderr",
     "output_type": "stream",
     "text": [
      " 63%|██████▎   | 63/100 [05:27<02:36,  4.23s/it]"
     ]
    },
    {
     "name": "stdout",
     "output_type": "stream",
     "text": [
      "['Кино', 'Телевидение', 'Персоны']\n"
     ]
    },
    {
     "name": "stderr",
     "output_type": "stream",
     "text": [
      " 64%|██████▍   | 64/100 [05:35<03:06,  5.19s/it]"
     ]
    },
    {
     "name": "stdout",
     "output_type": "stream",
     "text": [
      "['Кино', 'Телевидение', 'Персоны']\n"
     ]
    },
    {
     "name": "stderr",
     "output_type": "stream",
     "text": [
      " 65%|██████▌   | 65/100 [05:43<03:27,  5.92s/it]"
     ]
    },
    {
     "name": "stdout",
     "output_type": "stream",
     "text": [
      "['Кино']\n"
     ]
    },
    {
     "name": "stderr",
     "output_type": "stream",
     "text": [
      " 66%|██████▌   | 66/100 [05:45<02:44,  4.84s/it]"
     ]
    },
    {
     "name": "stdout",
     "output_type": "stream",
     "text": [
      "['Кино', 'Персоны', 'События']\n"
     ]
    },
    {
     "name": "stderr",
     "output_type": "stream",
     "text": [
      " 67%|██████▋   | 67/100 [05:53<03:10,  5.76s/it]"
     ]
    },
    {
     "name": "stdout",
     "output_type": "stream",
     "text": [
      "['Кино', 'Персоны', 'События']\n"
     ]
    },
    {
     "name": "stderr",
     "output_type": "stream",
     "text": [
      " 68%|██████▊   | 68/100 [05:59<03:00,  5.63s/it]"
     ]
    },
    {
     "name": "stdout",
     "output_type": "stream",
     "text": [
      "['Кино', 'Телевидение', 'Персоны']\n",
      "[]\n"
     ]
    },
    {
     "name": "stderr",
     "output_type": "stream",
     "text": [
      " 70%|███████   | 70/100 [06:07<02:26,  4.89s/it]"
     ]
    },
    {
     "name": "stdout",
     "output_type": "stream",
     "text": [
      "['Кино', 'Телевидение', 'Персоны']\n"
     ]
    },
    {
     "name": "stderr",
     "output_type": "stream",
     "text": [
      " 71%|███████   | 71/100 [06:09<02:02,  4.23s/it]"
     ]
    },
    {
     "name": "stdout",
     "output_type": "stream",
     "text": [
      "['Кино', 'Общество', 'Персоны']\n"
     ]
    },
    {
     "name": "stderr",
     "output_type": "stream",
     "text": [
      " 72%|███████▏  | 72/100 [06:17<02:28,  5.29s/it]"
     ]
    },
    {
     "name": "stdout",
     "output_type": "stream",
     "text": [
      "['Политика', 'Общество', 'Кино']\n"
     ]
    },
    {
     "name": "stderr",
     "output_type": "stream",
     "text": [
      " 73%|███████▎  | 73/100 [06:23<02:28,  5.49s/it]"
     ]
    },
    {
     "name": "stdout",
     "output_type": "stream",
     "text": [
      "['Общество', 'Кино', 'События']\n"
     ]
    },
    {
     "name": "stderr",
     "output_type": "stream",
     "text": [
      " 74%|███████▍  | 74/100 [06:29<02:22,  5.48s/it]"
     ]
    },
    {
     "name": "stdout",
     "output_type": "stream",
     "text": [
      "['Кино', 'Персоны', 'События']\n"
     ]
    },
    {
     "name": "stderr",
     "output_type": "stream",
     "text": [
      " 75%|███████▌  | 75/100 [06:31<01:56,  4.67s/it]"
     ]
    },
    {
     "name": "stdout",
     "output_type": "stream",
     "text": [
      "['Кино', 'События', 'Персоны']\n"
     ]
    },
    {
     "name": "stderr",
     "output_type": "stream",
     "text": [
      " 76%|███████▌  | 76/100 [06:35<01:46,  4.44s/it]"
     ]
    },
    {
     "name": "stdout",
     "output_type": "stream",
     "text": [
      "['Кино', 'Телевидение', 'Персоны']\n"
     ]
    },
    {
     "name": "stderr",
     "output_type": "stream",
     "text": [
      " 77%|███████▋  | 77/100 [06:40<01:46,  4.63s/it]"
     ]
    },
    {
     "name": "stdout",
     "output_type": "stream",
     "text": [
      "['Кино', 'Телевидение', 'Персоны']\n",
      "[]\n"
     ]
    },
    {
     "name": "stderr",
     "output_type": "stream",
     "text": [
      " 79%|███████▉  | 79/100 [06:42<01:03,  3.02s/it]"
     ]
    },
    {
     "name": "stdout",
     "output_type": "stream",
     "text": [
      "['Кино', 'Телевидение', 'Персоны']\n",
      "[]\n"
     ]
    },
    {
     "name": "stderr",
     "output_type": "stream",
     "text": [
      " 81%|████████  | 81/100 [06:46<00:47,  2.48s/it]"
     ]
    },
    {
     "name": "stdout",
     "output_type": "stream",
     "text": [
      "['Кино', 'Телевидение', 'Персоны']\n"
     ]
    },
    {
     "name": "stderr",
     "output_type": "stream",
     "text": [
      " 82%|████████▏ | 82/100 [06:47<00:41,  2.29s/it]"
     ]
    },
    {
     "name": "stdout",
     "output_type": "stream",
     "text": [
      "['Кино', 'Общество', 'Персоны']\n"
     ]
    },
    {
     "name": "stderr",
     "output_type": "stream",
     "text": [
      " 83%|████████▎ | 83/100 [06:51<00:45,  2.67s/it]"
     ]
    },
    {
     "name": "stdout",
     "output_type": "stream",
     "text": [
      "['Кино', 'Телевидение', 'Персоны']\n",
      "[]\n"
     ]
    },
    {
     "name": "stderr",
     "output_type": "stream",
     "text": [
      " 85%|████████▌ | 85/100 [06:59<00:48,  3.26s/it]"
     ]
    },
    {
     "name": "stdout",
     "output_type": "stream",
     "text": [
      "['Кино', 'События', 'Персоны']\n"
     ]
    },
    {
     "name": "stderr",
     "output_type": "stream",
     "text": [
      " 86%|████████▌ | 86/100 [07:01<00:41,  2.96s/it]"
     ]
    },
    {
     "name": "stdout",
     "output_type": "stream",
     "text": [
      "['Кино', 'Телевидение', 'Персоны']\n"
     ]
    },
    {
     "name": "stderr",
     "output_type": "stream",
     "text": [
      " 87%|████████▋ | 87/100 [07:09<00:54,  4.22s/it]"
     ]
    },
    {
     "name": "stdout",
     "output_type": "stream",
     "text": [
      "['Кино', 'События', 'Персоны']\n"
     ]
    },
    {
     "name": "stderr",
     "output_type": "stream",
     "text": [
      " 88%|████████▊ | 88/100 [07:16<00:57,  4.76s/it]"
     ]
    },
    {
     "name": "stdout",
     "output_type": "stream",
     "text": [
      "['Кино', 'Телевидение', 'Персоны']\n"
     ]
    },
    {
     "name": "stderr",
     "output_type": "stream",
     "text": [
      " 89%|████████▉ | 89/100 [07:20<00:51,  4.66s/it]"
     ]
    },
    {
     "name": "stdout",
     "output_type": "stream",
     "text": [
      "['Кино', 'Персоны', 'События']\n"
     ]
    },
    {
     "name": "stderr",
     "output_type": "stream",
     "text": [
      " 90%|█████████ | 90/100 [07:28<00:56,  5.61s/it]"
     ]
    },
    {
     "name": "stdout",
     "output_type": "stream",
     "text": [
      "['Кино', 'Телевидение', 'Персоны']\n"
     ]
    },
    {
     "name": "stderr",
     "output_type": "stream",
     "text": [
      " 91%|█████████ | 91/100 [07:36<00:56,  6.32s/it]"
     ]
    },
    {
     "name": "stdout",
     "output_type": "stream",
     "text": [
      "['Кино', 'Персоны', 'Общество']\n"
     ]
    },
    {
     "name": "stderr",
     "output_type": "stream",
     "text": [
      " 92%|█████████▏| 92/100 [07:42<00:49,  6.14s/it]"
     ]
    },
    {
     "name": "stdout",
     "output_type": "stream",
     "text": [
      "['Кино', 'События', 'Персоны']\n"
     ]
    },
    {
     "name": "stderr",
     "output_type": "stream",
     "text": [
      " 93%|█████████▎| 93/100 [07:50<00:47,  6.78s/it]"
     ]
    },
    {
     "name": "stdout",
     "output_type": "stream",
     "text": [
      "['Политика', 'Экономика', 'Общество']\n"
     ]
    },
    {
     "name": "stderr",
     "output_type": "stream",
     "text": [
      " 94%|█████████▍| 94/100 [07:57<00:40,  6.67s/it]"
     ]
    },
    {
     "name": "stdout",
     "output_type": "stream",
     "text": [
      "['Кино', 'Персоны', 'События']\n"
     ]
    },
    {
     "name": "stderr",
     "output_type": "stream",
     "text": [
      " 95%|█████████▌| 95/100 [08:02<00:31,  6.33s/it]"
     ]
    },
    {
     "name": "stdout",
     "output_type": "stream",
     "text": [
      "['Кино', 'Персоны', 'События']\n"
     ]
    },
    {
     "name": "stderr",
     "output_type": "stream",
     "text": [
      " 96%|█████████▌| 96/100 [08:07<00:23,  5.77s/it]"
     ]
    },
    {
     "name": "stdout",
     "output_type": "stream",
     "text": [
      "['Технологии', 'Кино', 'Телевидение']\n"
     ]
    },
    {
     "name": "stderr",
     "output_type": "stream",
     "text": [
      " 97%|█████████▋| 97/100 [08:11<00:15,  5.30s/it]"
     ]
    },
    {
     "name": "stdout",
     "output_type": "stream",
     "text": [
      "['Кино', 'Персоны', 'События']\n"
     ]
    },
    {
     "name": "stderr",
     "output_type": "stream",
     "text": [
      " 98%|█████████▊| 98/100 [08:19<00:12,  6.13s/it]"
     ]
    },
    {
     "name": "stdout",
     "output_type": "stream",
     "text": [
      "['Кино', 'Персоны', 'События']\n"
     ]
    },
    {
     "name": "stderr",
     "output_type": "stream",
     "text": [
      " 99%|█████████▉| 99/100 [08:26<00:06,  6.35s/it]"
     ]
    },
    {
     "name": "stdout",
     "output_type": "stream",
     "text": [
      "['Кино', 'Телевидение', 'Персоны']\n"
     ]
    },
    {
     "name": "stderr",
     "output_type": "stream",
     "text": [
      "100%|██████████| 100/100 [08:28<00:00,  5.08s/it]"
     ]
    },
    {
     "name": "stdout",
     "output_type": "stream",
     "text": [
      "['Кино', 'Телевидение', 'Персоны']\n"
     ]
    },
    {
     "name": "stderr",
     "output_type": "stream",
     "text": [
      "\n"
     ]
    }
   ],
   "source": [
    "import tqdm\n",
    "\n",
    "tags_list = []\n",
    "\n",
    "print(\"start\")\n",
    "for i in tqdm.tqdm(range(100)):\n",
    "    article = data['Article Text'][i]\n",
    "    \n",
    "    try:\n",
    "        resp = chat.invoke(chat_template.format_messages(tags=tags_s, article=article))\n",
    "        # print(resp.content)\n",
    "        res = purify(resp.content)[:3]\n",
    "    except:\n",
    "        res = []\n",
    "    \n",
    "  \n",
    "   \n",
    "        \n",
    "    print(res)\n",
    "    \n",
    "    # try:\n",
    "    #     resp = resp[resp.index('{'):resp.index('}')+1]\n",
    "    # except Exception as e:\n",
    "    #     print(\"!\")\n",
    "    tags_list.append(res)\n",
    "    \n",
    "tags = pd.Series(data=tags_list)\n",
    "data['llm_tags'] = tags"
   ]
  },
  {
   "cell_type": "code",
   "execution_count": 13,
   "id": "50edddf0-a686-48dc-b44c-e87c0550f1f2",
   "metadata": {
    "tags": []
   },
   "outputs": [],
   "source": [
    "data.to_csv(\"llm_tags.csv\", index=False)"
   ]
  },
  {
   "cell_type": "code",
   "execution_count": 11,
   "id": "c6ba417f-5443-4cfe-96b6-a87cc92abbcf",
   "metadata": {
    "tags": []
   },
   "outputs": [
    {
     "data": {
      "text/html": [
       "<div>\n",
       "<style scoped>\n",
       "    .dataframe tbody tr th:only-of-type {\n",
       "        vertical-align: middle;\n",
       "    }\n",
       "\n",
       "    .dataframe tbody tr th {\n",
       "        vertical-align: top;\n",
       "    }\n",
       "\n",
       "    .dataframe thead th {\n",
       "        text-align: right;\n",
       "    }\n",
       "</style>\n",
       "<table border=\"1\" class=\"dataframe\">\n",
       "  <thead>\n",
       "    <tr style=\"text-align: right;\">\n",
       "      <th></th>\n",
       "      <th>Unnamed: 0</th>\n",
       "      <th>URL</th>\n",
       "      <th>Title</th>\n",
       "      <th>Description</th>\n",
       "      <th>Article Text</th>\n",
       "      <th>Keywords</th>\n",
       "      <th>Tag</th>\n",
       "      <th>llm_tags</th>\n",
       "    </tr>\n",
       "  </thead>\n",
       "  <tbody>\n",
       "    <tr>\n",
       "      <th>0</th>\n",
       "      <td>0</td>\n",
       "      <td>https://kino.mail.ru/news/61905-serial-na-viho...</td>\n",
       "      <td>Сериал на выходные: едкая детективная комедия ...</td>\n",
       "      <td>В элитном поселке происходит убийство няни в ...</td>\n",
       "      <td>В элитном поселке, где обитают сплошь богачи, ...</td>\n",
       "      <td>СТАТЬЯ, ЧТО ПОСМОТРЕТЬ, ДРАМА, КОМЕДИЯ, ДЕТЕКТИВ</td>\n",
       "      <td>Кино</td>\n",
       "      <td>[Кино, Персоны, События]</td>\n",
       "    </tr>\n",
       "    <tr>\n",
       "      <th>1</th>\n",
       "      <td>1</td>\n",
       "      <td>https://kino.mail.ru/news/61913-film-na-vecher...</td>\n",
       "      <td>Фильм на вечер: атмосферный фильм-катастрофа с...</td>\n",
       "      <td>Фильм \"Катастрофа\" - французская атмосферная ...</td>\n",
       "      <td>Мир охвачен паникой — повсюду наблюдаются аном...</td>\n",
       "      <td>СТАТЬЯ, ЧТО ПОСМОТРЕТЬ, ДРАМА, ТРИЛЛЕР, ФАНТАС...</td>\n",
       "      <td>Кино</td>\n",
       "      <td>[Кино, События, Общество]</td>\n",
       "    </tr>\n",
       "    <tr>\n",
       "      <th>2</th>\n",
       "      <td>2</td>\n",
       "      <td>https://kino.mail.ru/news/61900-treiler-dnya-m...</td>\n",
       "      <td>Трейлер дня: Милла Йовович возвращается в трил...</td>\n",
       "      <td>В фантастическом триллере \"Дыши\" Милла Йовови...</td>\n",
       "      <td>Вышел дублированный трейлер фантастического тр...</td>\n",
       "      <td>СТАТЬЯ, ЧТО ПОСМОТРЕТЬ</td>\n",
       "      <td>Кино</td>\n",
       "      <td>[Кино, Телевидение, Персоны]</td>\n",
       "    </tr>\n",
       "    <tr>\n",
       "      <th>3</th>\n",
       "      <td>3</td>\n",
       "      <td>https://kino.mail.ru/news/61871-film-na-vecher...</td>\n",
       "      <td>Фильм на вечер: милая зомби-комедия со звездой...</td>\n",
       "      <td>Фильм \"Парень с того света\" - черная комедия ...</td>\n",
       "      <td>Оставшись сиротой, юный Оливер оказывается в т...</td>\n",
       "      <td>СТАТЬЯ, ЧТО ПОСМОТРЕТЬ, КОМЕДИЯ, УЖАСЫ</td>\n",
       "      <td>Кино</td>\n",
       "      <td>[Кино, Телевидение, Персоны]</td>\n",
       "    </tr>\n",
       "    <tr>\n",
       "      <th>4</th>\n",
       "      <td>4</td>\n",
       "      <td>https://kino.mail.ru/news/61854-treiler-dnya-7...</td>\n",
       "      <td>Трейлер дня: 79-летний Майкл Дуглас играет Бен...</td>\n",
       "      <td>В сериале «Франклин», который выйдет 12 апрел...</td>\n",
       "      <td>Вышел трейлер костюмированной 8-серийной драмы...</td>\n",
       "      <td>СТАТЬЯ, ЧТО ПОСМОТРЕТЬ</td>\n",
       "      <td>Кино</td>\n",
       "      <td>[Кино, Персоны, Телевидение]</td>\n",
       "    </tr>\n",
       "    <tr>\n",
       "      <th>...</th>\n",
       "      <td>...</td>\n",
       "      <td>...</td>\n",
       "      <td>...</td>\n",
       "      <td>...</td>\n",
       "      <td>...</td>\n",
       "      <td>...</td>\n",
       "      <td>...</td>\n",
       "      <td>...</td>\n",
       "    </tr>\n",
       "    <tr>\n",
       "      <th>938</th>\n",
       "      <td>995</td>\n",
       "      <td>https://deti.mail.ru/article/prikorm-trojni/</td>\n",
       "      <td>«Ложечку за маму и так три раза»: мама тройни ...</td>\n",
       "      <td>Маме тройни удалось постепенно вводить прикор...</td>\n",
       "      <td>Муж как-то прислал мне карикатуру «Способы нак...</td>\n",
       "      <td>7 месяцев - 12 месяцев</td>\n",
       "      <td>Дети</td>\n",
       "      <td>NaN</td>\n",
       "    </tr>\n",
       "    <tr>\n",
       "      <th>939</th>\n",
       "      <td>996</td>\n",
       "      <td>https://deti.mail.ru/article/prosto-o-slozhnom...</td>\n",
       "      <td>Как говорить с ребенком про секс</td>\n",
       "      <td>Ключевые темы, затронутые в статье:\\n1. Говор...</td>\n",
       "      <td>Отвечайте на вопросы, пока на них не ответили ...</td>\n",
       "      <td>Дети 3-7 лет</td>\n",
       "      <td>Дети</td>\n",
       "      <td>NaN</td>\n",
       "    </tr>\n",
       "    <tr>\n",
       "      <th>940</th>\n",
       "      <td>997</td>\n",
       "      <td>https://deti.mail.ru/article/zvyozdy-chyu-bere...</td>\n",
       "      <td>Звёзды, чью беременность все ждут</td>\n",
       "      <td>Самые обсуждаемые звезды, которые, по слухам,...</td>\n",
       "      <td>В итоге из-за неудачного ракурса или наряда та...</td>\n",
       "      <td>Беременность</td>\n",
       "      <td>Дети</td>\n",
       "      <td>NaN</td>\n",
       "    </tr>\n",
       "    <tr>\n",
       "      <th>941</th>\n",
       "      <td>998</td>\n",
       "      <td>https://dom.mail.ru/articles/73824-dolya-lgotn...</td>\n",
       "      <td>Доля льготной ипотеки сократилась в январе на ...</td>\n",
       "      <td>В январе доля льготной ипотеки сократилась на...</td>\n",
       "      <td>По данным организации, являющейся оператором ф...</td>\n",
       "      <td>Город</td>\n",
       "      <td>Дом</td>\n",
       "      <td>NaN</td>\n",
       "    </tr>\n",
       "    <tr>\n",
       "      <th>942</th>\n",
       "      <td>999</td>\n",
       "      <td>https://dom.mail.ru/articles/73823-volodin-naz...</td>\n",
       "      <td>Володин назвал недопустимым повышение цен на ж...</td>\n",
       "      <td>Спикер Госдумы Вячеслав Володин выступил за б...</td>\n",
       "      <td>«Необходимо сделать всё, чтобы льготная ипотек...</td>\n",
       "      <td>Город</td>\n",
       "      <td>Дом</td>\n",
       "      <td>NaN</td>\n",
       "    </tr>\n",
       "  </tbody>\n",
       "</table>\n",
       "<p>943 rows × 8 columns</p>\n",
       "</div>"
      ],
      "text/plain": [
       "     Unnamed: 0                                                URL  \\\n",
       "0             0  https://kino.mail.ru/news/61905-serial-na-viho...   \n",
       "1             1  https://kino.mail.ru/news/61913-film-na-vecher...   \n",
       "2             2  https://kino.mail.ru/news/61900-treiler-dnya-m...   \n",
       "3             3  https://kino.mail.ru/news/61871-film-na-vecher...   \n",
       "4             4  https://kino.mail.ru/news/61854-treiler-dnya-7...   \n",
       "..          ...                                                ...   \n",
       "938         995       https://deti.mail.ru/article/prikorm-trojni/   \n",
       "939         996  https://deti.mail.ru/article/prosto-o-slozhnom...   \n",
       "940         997  https://deti.mail.ru/article/zvyozdy-chyu-bere...   \n",
       "941         998  https://dom.mail.ru/articles/73824-dolya-lgotn...   \n",
       "942         999  https://dom.mail.ru/articles/73823-volodin-naz...   \n",
       "\n",
       "                                                 Title  \\\n",
       "0    Сериал на выходные: едкая детективная комедия ...   \n",
       "1    Фильм на вечер: атмосферный фильм-катастрофа с...   \n",
       "2    Трейлер дня: Милла Йовович возвращается в трил...   \n",
       "3    Фильм на вечер: милая зомби-комедия со звездой...   \n",
       "4    Трейлер дня: 79-летний Майкл Дуглас играет Бен...   \n",
       "..                                                 ...   \n",
       "938  «Ложечку за маму и так три раза»: мама тройни ...   \n",
       "939                   Как говорить с ребенком про секс   \n",
       "940                  Звёзды, чью беременность все ждут   \n",
       "941  Доля льготной ипотеки сократилась в январе на ...   \n",
       "942  Володин назвал недопустимым повышение цен на ж...   \n",
       "\n",
       "                                           Description  \\\n",
       "0     В элитном поселке происходит убийство няни в ...   \n",
       "1     Фильм \"Катастрофа\" - французская атмосферная ...   \n",
       "2     В фантастическом триллере \"Дыши\" Милла Йовови...   \n",
       "3     Фильм \"Парень с того света\" - черная комедия ...   \n",
       "4     В сериале «Франклин», который выйдет 12 апрел...   \n",
       "..                                                 ...   \n",
       "938   Маме тройни удалось постепенно вводить прикор...   \n",
       "939   Ключевые темы, затронутые в статье:\\n1. Говор...   \n",
       "940   Самые обсуждаемые звезды, которые, по слухам,...   \n",
       "941   В январе доля льготной ипотеки сократилась на...   \n",
       "942   Спикер Госдумы Вячеслав Володин выступил за б...   \n",
       "\n",
       "                                          Article Text  \\\n",
       "0    В элитном поселке, где обитают сплошь богачи, ...   \n",
       "1    Мир охвачен паникой — повсюду наблюдаются аном...   \n",
       "2    Вышел дублированный трейлер фантастического тр...   \n",
       "3    Оставшись сиротой, юный Оливер оказывается в т...   \n",
       "4    Вышел трейлер костюмированной 8-серийной драмы...   \n",
       "..                                                 ...   \n",
       "938  Муж как-то прислал мне карикатуру «Способы нак...   \n",
       "939  Отвечайте на вопросы, пока на них не ответили ...   \n",
       "940  В итоге из-за неудачного ракурса или наряда та...   \n",
       "941  По данным организации, являющейся оператором ф...   \n",
       "942  «Необходимо сделать всё, чтобы льготная ипотек...   \n",
       "\n",
       "                                              Keywords   Tag  \\\n",
       "0     СТАТЬЯ, ЧТО ПОСМОТРЕТЬ, ДРАМА, КОМЕДИЯ, ДЕТЕКТИВ  Кино   \n",
       "1    СТАТЬЯ, ЧТО ПОСМОТРЕТЬ, ДРАМА, ТРИЛЛЕР, ФАНТАС...  Кино   \n",
       "2                               СТАТЬЯ, ЧТО ПОСМОТРЕТЬ  Кино   \n",
       "3               СТАТЬЯ, ЧТО ПОСМОТРЕТЬ, КОМЕДИЯ, УЖАСЫ  Кино   \n",
       "4                               СТАТЬЯ, ЧТО ПОСМОТРЕТЬ  Кино   \n",
       "..                                                 ...   ...   \n",
       "938                             7 месяцев - 12 месяцев  Дети   \n",
       "939                                       Дети 3-7 лет  Дети   \n",
       "940                                       Беременность  Дети   \n",
       "941                                              Город   Дом   \n",
       "942                                              Город   Дом   \n",
       "\n",
       "                         llm_tags  \n",
       "0        [Кино, Персоны, События]  \n",
       "1       [Кино, События, Общество]  \n",
       "2    [Кино, Телевидение, Персоны]  \n",
       "3    [Кино, Телевидение, Персоны]  \n",
       "4    [Кино, Персоны, Телевидение]  \n",
       "..                            ...  \n",
       "938                           NaN  \n",
       "939                           NaN  \n",
       "940                           NaN  \n",
       "941                           NaN  \n",
       "942                           NaN  \n",
       "\n",
       "[943 rows x 8 columns]"
      ]
     },
     "execution_count": 11,
     "metadata": {},
     "output_type": "execute_result"
    }
   ],
   "source": [
    "data"
   ]
  },
  {
   "cell_type": "code",
   "execution_count": 14,
   "id": "a7bb749f-33ec-46c8-b770-847294bf2823",
   "metadata": {},
   "outputs": [
    {
     "data": {
      "text/html": [
       "<div>\n",
       "<style scoped>\n",
       "    .dataframe tbody tr th:only-of-type {\n",
       "        vertical-align: middle;\n",
       "    }\n",
       "\n",
       "    .dataframe tbody tr th {\n",
       "        vertical-align: top;\n",
       "    }\n",
       "\n",
       "    .dataframe thead th {\n",
       "        text-align: right;\n",
       "    }\n",
       "</style>\n",
       "<table border=\"1\" class=\"dataframe\">\n",
       "  <thead>\n",
       "    <tr style=\"text-align: right;\">\n",
       "      <th></th>\n",
       "      <th>Unnamed: 0</th>\n",
       "      <th>URL</th>\n",
       "      <th>Title</th>\n",
       "      <th>Description</th>\n",
       "      <th>Article Text</th>\n",
       "      <th>Keywords</th>\n",
       "      <th>Tag</th>\n",
       "      <th>llm_tags</th>\n",
       "    </tr>\n",
       "  </thead>\n",
       "  <tbody>\n",
       "    <tr>\n",
       "      <th>0</th>\n",
       "      <td>False</td>\n",
       "      <td>False</td>\n",
       "      <td>False</td>\n",
       "      <td>False</td>\n",
       "      <td>False</td>\n",
       "      <td>False</td>\n",
       "      <td>False</td>\n",
       "      <td>False</td>\n",
       "    </tr>\n",
       "    <tr>\n",
       "      <th>1</th>\n",
       "      <td>False</td>\n",
       "      <td>False</td>\n",
       "      <td>False</td>\n",
       "      <td>False</td>\n",
       "      <td>False</td>\n",
       "      <td>False</td>\n",
       "      <td>False</td>\n",
       "      <td>False</td>\n",
       "    </tr>\n",
       "    <tr>\n",
       "      <th>2</th>\n",
       "      <td>False</td>\n",
       "      <td>False</td>\n",
       "      <td>False</td>\n",
       "      <td>False</td>\n",
       "      <td>False</td>\n",
       "      <td>False</td>\n",
       "      <td>False</td>\n",
       "      <td>False</td>\n",
       "    </tr>\n",
       "    <tr>\n",
       "      <th>3</th>\n",
       "      <td>False</td>\n",
       "      <td>False</td>\n",
       "      <td>False</td>\n",
       "      <td>False</td>\n",
       "      <td>False</td>\n",
       "      <td>False</td>\n",
       "      <td>False</td>\n",
       "      <td>False</td>\n",
       "    </tr>\n",
       "    <tr>\n",
       "      <th>4</th>\n",
       "      <td>False</td>\n",
       "      <td>False</td>\n",
       "      <td>False</td>\n",
       "      <td>False</td>\n",
       "      <td>False</td>\n",
       "      <td>False</td>\n",
       "      <td>False</td>\n",
       "      <td>False</td>\n",
       "    </tr>\n",
       "    <tr>\n",
       "      <th>...</th>\n",
       "      <td>...</td>\n",
       "      <td>...</td>\n",
       "      <td>...</td>\n",
       "      <td>...</td>\n",
       "      <td>...</td>\n",
       "      <td>...</td>\n",
       "      <td>...</td>\n",
       "      <td>...</td>\n",
       "    </tr>\n",
       "    <tr>\n",
       "      <th>938</th>\n",
       "      <td>False</td>\n",
       "      <td>False</td>\n",
       "      <td>False</td>\n",
       "      <td>False</td>\n",
       "      <td>False</td>\n",
       "      <td>False</td>\n",
       "      <td>False</td>\n",
       "      <td>True</td>\n",
       "    </tr>\n",
       "    <tr>\n",
       "      <th>939</th>\n",
       "      <td>False</td>\n",
       "      <td>False</td>\n",
       "      <td>False</td>\n",
       "      <td>False</td>\n",
       "      <td>False</td>\n",
       "      <td>False</td>\n",
       "      <td>False</td>\n",
       "      <td>True</td>\n",
       "    </tr>\n",
       "    <tr>\n",
       "      <th>940</th>\n",
       "      <td>False</td>\n",
       "      <td>False</td>\n",
       "      <td>False</td>\n",
       "      <td>False</td>\n",
       "      <td>False</td>\n",
       "      <td>False</td>\n",
       "      <td>False</td>\n",
       "      <td>True</td>\n",
       "    </tr>\n",
       "    <tr>\n",
       "      <th>941</th>\n",
       "      <td>False</td>\n",
       "      <td>False</td>\n",
       "      <td>False</td>\n",
       "      <td>False</td>\n",
       "      <td>False</td>\n",
       "      <td>False</td>\n",
       "      <td>False</td>\n",
       "      <td>True</td>\n",
       "    </tr>\n",
       "    <tr>\n",
       "      <th>942</th>\n",
       "      <td>False</td>\n",
       "      <td>False</td>\n",
       "      <td>False</td>\n",
       "      <td>False</td>\n",
       "      <td>False</td>\n",
       "      <td>False</td>\n",
       "      <td>False</td>\n",
       "      <td>True</td>\n",
       "    </tr>\n",
       "  </tbody>\n",
       "</table>\n",
       "<p>943 rows × 8 columns</p>\n",
       "</div>"
      ],
      "text/plain": [
       "     Unnamed: 0    URL  Title  Description  Article Text  Keywords    Tag  \\\n",
       "0         False  False  False        False         False     False  False   \n",
       "1         False  False  False        False         False     False  False   \n",
       "2         False  False  False        False         False     False  False   \n",
       "3         False  False  False        False         False     False  False   \n",
       "4         False  False  False        False         False     False  False   \n",
       "..          ...    ...    ...          ...           ...       ...    ...   \n",
       "938       False  False  False        False         False     False  False   \n",
       "939       False  False  False        False         False     False  False   \n",
       "940       False  False  False        False         False     False  False   \n",
       "941       False  False  False        False         False     False  False   \n",
       "942       False  False  False        False         False     False  False   \n",
       "\n",
       "     llm_tags  \n",
       "0       False  \n",
       "1       False  \n",
       "2       False  \n",
       "3       False  \n",
       "4       False  \n",
       "..        ...  \n",
       "938      True  \n",
       "939      True  \n",
       "940      True  \n",
       "941      True  \n",
       "942      True  \n",
       "\n",
       "[943 rows x 8 columns]"
      ]
     },
     "execution_count": 14,
     "metadata": {},
     "output_type": "execute_result"
    }
   ],
   "source": [
    "data.isna()"
   ]
  },
  {
   "cell_type": "code",
   "execution_count": 15,
   "id": "318975fb-5a56-47bc-8568-af4388537902",
   "metadata": {
    "tags": []
   },
   "outputs": [],
   "source": [
    "test = data.copy()"
   ]
  },
  {
   "cell_type": "code",
   "execution_count": 19,
   "id": "f91a2838-27cc-48bd-9556-7e034d31c522",
   "metadata": {
    "tags": []
   },
   "outputs": [],
   "source": [
    "test = test.dropna()"
   ]
  },
  {
   "cell_type": "code",
   "execution_count": 20,
   "id": "3869c847-4688-4a18-942b-15cadf2a281a",
   "metadata": {
    "tags": []
   },
   "outputs": [],
   "source": [
    "test.to_csv('data_llm_res.csv')"
   ]
  },
  {
   "cell_type": "code",
   "execution_count": null,
   "id": "f5e3aaef-22c8-43f5-8c53-2f8091bb4b50",
   "metadata": {},
   "outputs": [],
   "source": []
  },
  {
   "cell_type": "code",
   "execution_count": null,
   "id": "b18ed582-af1c-4d5e-a483-419b82463b0c",
   "metadata": {},
   "outputs": [],
   "source": []
  }
 ],
 "metadata": {
  "kernelspec": {
   "display_name": "Python 3 (ipykernel)",
   "language": "python",
   "name": "python3"
  },
  "language_info": {
   "codemirror_mode": {
    "name": "ipython",
    "version": 3
   },
   "file_extension": ".py",
   "mimetype": "text/x-python",
   "name": "python",
   "nbconvert_exporter": "python",
   "pygments_lexer": "ipython3",
   "version": "3.9.7"
  }
 },
 "nbformat": 4,
 "nbformat_minor": 5
}
