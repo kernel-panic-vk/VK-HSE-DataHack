{
 "cells": [
  {
   "cell_type": "code",
   "execution_count": 23,
   "id": "8c6bf6e5-733e-4672-a7a3-9e427f5056fb",
   "metadata": {},
   "outputs": [],
   "source": [
    "import pandas as pd\n",
    "import re\n",
    "import nltk\n",
    "import spacy\n",
    "\n",
    "\n",
    "import contractions"
   ]
  },
  {
   "cell_type": "code",
   "execution_count": 25,
   "id": "01b09eaa-1f08-4235-b097-47bc256fcb9b",
   "metadata": {},
   "outputs": [],
   "source": [
    "import inflect\n",
    "from nltk.corpus import stopwords\n",
    "from nltk.tokenize import word_tokenize"
   ]
  },
  {
   "cell_type": "code",
   "execution_count": 34,
   "id": "8f49603b-3476-42e6-b509-7a46fa45a597",
   "metadata": {},
   "outputs": [],
   "source": [
    "dataset = pd.read_excel('data/kino.xlsx')"
   ]
  },
  {
   "cell_type": "code",
   "execution_count": 7,
   "id": "2ab6f8c7-b9f5-43dd-b479-a1869b435a0b",
   "metadata": {},
   "outputs": [
    {
     "data": {
      "text/html": [
       "<div>\n",
       "<style scoped>\n",
       "    .dataframe tbody tr th:only-of-type {\n",
       "        vertical-align: middle;\n",
       "    }\n",
       "\n",
       "    .dataframe tbody tr th {\n",
       "        vertical-align: top;\n",
       "    }\n",
       "\n",
       "    .dataframe thead th {\n",
       "        text-align: right;\n",
       "    }\n",
       "</style>\n",
       "<table border=\"1\" class=\"dataframe\">\n",
       "  <thead>\n",
       "    <tr style=\"text-align: right;\">\n",
       "      <th></th>\n",
       "      <th>URL</th>\n",
       "      <th>Title</th>\n",
       "      <th>Description</th>\n",
       "      <th>Article Text</th>\n",
       "      <th>Keywords</th>\n",
       "      <th>Tag</th>\n",
       "    </tr>\n",
       "  </thead>\n",
       "  <tbody>\n",
       "    <tr>\n",
       "      <th>0</th>\n",
       "      <td>https://kino.mail.ru/news/61905-serial-na-viho...</td>\n",
       "      <td>Сериал на выходные: едкая детективная комедия ...</td>\n",
       "      <td>Рассказываем о густонаселенном сериале «Прести...</td>\n",
       "      <td>В элитном поселке, где обитают сплошь богачи, ...</td>\n",
       "      <td>СТАТЬЯ, ЧТО ПОСМОТРЕТЬ, ДРАМА, КОМЕДИЯ, ДЕТЕКТИВ</td>\n",
       "      <td>Кино</td>\n",
       "    </tr>\n",
       "    <tr>\n",
       "      <th>1</th>\n",
       "      <td>https://kino.mail.ru/news/61913-film-na-vecher...</td>\n",
       "      <td>Фильм на вечер: атмосферный фильм-катастрофа с...</td>\n",
       "      <td>Погружаемся в апокалиптический триллер о франц...</td>\n",
       "      <td>Мир охвачен паникой — повсюду наблюдаются аном...</td>\n",
       "      <td>СТАТЬЯ, ЧТО ПОСМОТРЕТЬ, ДРАМА, ТРИЛЛЕР, ФАНТАС...</td>\n",
       "      <td>Кино</td>\n",
       "    </tr>\n",
       "    <tr>\n",
       "      <th>2</th>\n",
       "      <td>https://kino.mail.ru/news/61900-treiler-dnya-m...</td>\n",
       "      <td>Трейлер дня: Милла Йовович возвращается в трил...</td>\n",
       "      <td>Актриса снялась в новом экшене про пост-апокал...</td>\n",
       "      <td>Вышел дублированный трейлер фантастического тр...</td>\n",
       "      <td>СТАТЬЯ, ЧТО ПОСМОТРЕТЬ</td>\n",
       "      <td>Кино</td>\n",
       "    </tr>\n",
       "    <tr>\n",
       "      <th>3</th>\n",
       "      <td>https://kino.mail.ru/news/61871-film-na-vecher...</td>\n",
       "      <td>Фильм на вечер: милая зомби-комедия со звездой...</td>\n",
       "      <td>Заряжаемся хулиганским настроением за просмотр...</td>\n",
       "      <td>Оставшись сиротой, юный Оливер оказывается в т...</td>\n",
       "      <td>СТАТЬЯ, ЧТО ПОСМОТРЕТЬ, КОМЕДИЯ, УЖАСЫ</td>\n",
       "      <td>Кино</td>\n",
       "    </tr>\n",
       "    <tr>\n",
       "      <th>4</th>\n",
       "      <td>https://kino.mail.ru/news/61854-treiler-dnya-7...</td>\n",
       "      <td>Трейлер дня: 79-летний Майкл Дуглас играет Бен...</td>\n",
       "      <td>В сериале «Франклин» актер в роли отца-основат...</td>\n",
       "      <td>Вышел трейлер костюмированной 8-серийной драмы...</td>\n",
       "      <td>СТАТЬЯ, ЧТО ПОСМОТРЕТЬ</td>\n",
       "      <td>Кино</td>\n",
       "    </tr>\n",
       "  </tbody>\n",
       "</table>\n",
       "</div>"
      ],
      "text/plain": [
       "                                                 URL  \\\n",
       "0  https://kino.mail.ru/news/61905-serial-na-viho...   \n",
       "1  https://kino.mail.ru/news/61913-film-na-vecher...   \n",
       "2  https://kino.mail.ru/news/61900-treiler-dnya-m...   \n",
       "3  https://kino.mail.ru/news/61871-film-na-vecher...   \n",
       "4  https://kino.mail.ru/news/61854-treiler-dnya-7...   \n",
       "\n",
       "                                               Title  \\\n",
       "0  Сериал на выходные: едкая детективная комедия ...   \n",
       "1  Фильм на вечер: атмосферный фильм-катастрофа с...   \n",
       "2  Трейлер дня: Милла Йовович возвращается в трил...   \n",
       "3  Фильм на вечер: милая зомби-комедия со звездой...   \n",
       "4  Трейлер дня: 79-летний Майкл Дуглас играет Бен...   \n",
       "\n",
       "                                         Description  \\\n",
       "0  Рассказываем о густонаселенном сериале «Прести...   \n",
       "1  Погружаемся в апокалиптический триллер о франц...   \n",
       "2  Актриса снялась в новом экшене про пост-апокал...   \n",
       "3  Заряжаемся хулиганским настроением за просмотр...   \n",
       "4  В сериале «Франклин» актер в роли отца-основат...   \n",
       "\n",
       "                                        Article Text  \\\n",
       "0  В элитном поселке, где обитают сплошь богачи, ...   \n",
       "1  Мир охвачен паникой — повсюду наблюдаются аном...   \n",
       "2  Вышел дублированный трейлер фантастического тр...   \n",
       "3  Оставшись сиротой, юный Оливер оказывается в т...   \n",
       "4  Вышел трейлер костюмированной 8-серийной драмы...   \n",
       "\n",
       "                                            Keywords   Tag  \n",
       "0   СТАТЬЯ, ЧТО ПОСМОТРЕТЬ, ДРАМА, КОМЕДИЯ, ДЕТЕКТИВ  Кино  \n",
       "1  СТАТЬЯ, ЧТО ПОСМОТРЕТЬ, ДРАМА, ТРИЛЛЕР, ФАНТАС...  Кино  \n",
       "2                             СТАТЬЯ, ЧТО ПОСМОТРЕТЬ  Кино  \n",
       "3             СТАТЬЯ, ЧТО ПОСМОТРЕТЬ, КОМЕДИЯ, УЖАСЫ  Кино  \n",
       "4                             СТАТЬЯ, ЧТО ПОСМОТРЕТЬ  Кино  "
      ]
     },
     "execution_count": 7,
     "metadata": {},
     "output_type": "execute_result"
    }
   ],
   "source": [
    "dataset.head()"
   ]
  },
  {
   "cell_type": "code",
   "execution_count": 8,
   "id": "160d47a4-4f4b-4802-a6a5-8a6e6e1bd439",
   "metadata": {},
   "outputs": [],
   "source": [
    "nlp = spacy.load(\"ru_core_news_lg\")"
   ]
  },
  {
   "cell_type": "code",
   "execution_count": 26,
   "id": "d94ac847-d32b-491e-8438-0a104ebe5202",
   "metadata": {},
   "outputs": [
    {
     "name": "stderr",
     "output_type": "stream",
     "text": [
      "[nltk_data] Downloading package stopwords to /Users/riter/nltk_data...\n",
      "[nltk_data]   Package stopwords is already up-to-date!\n",
      "[nltk_data] Downloading package punkt to /Users/riter/nltk_data...\n",
      "[nltk_data]   Package punkt is already up-to-date!\n"
     ]
    },
    {
     "data": {
      "text/plain": [
       "True"
      ]
     },
     "execution_count": 26,
     "metadata": {},
     "output_type": "execute_result"
    }
   ],
   "source": [
    "nltk.download('stopwords')\n",
    "nltk.download('punkt')"
   ]
  },
  {
   "cell_type": "code",
   "execution_count": 51,
   "id": "8e6f4c16-55c1-4122-8fc6-4eeda89a7cc3",
   "metadata": {},
   "outputs": [
    {
     "name": "stderr",
     "output_type": "stream",
     "text": [
      "<>:28: SyntaxWarning: invalid escape sequence '\\s'\n",
      "<>:28: SyntaxWarning: invalid escape sequence '\\s'\n",
      "/var/folders/3_/0zlq__wj47xg9llgg6qg6jzc0000gn/T/ipykernel_21626/909759501.py:28: SyntaxWarning: invalid escape sequence '\\s'\n",
      "  clean_text = re.sub('[^a-zA-Z0-9а-яА-Я\\s]', '', clean_text)\n"
     ]
    }
   ],
   "source": [
    "# Функция для очистки текста\n",
    "def clean_text(input_text):    \n",
    "    \n",
    "    # HTML-теги: первый шаг - удалить из входного текста все HTML-теги\n",
    "    clean_text = re.sub('<[^<]+?>', '', input_text)\n",
    "    \n",
    "    # URL и ссылки: далее - удаляем из текста все URL и ссылки\n",
    "    clean_text = re.sub(r'http\\S+', '', clean_text)\n",
    "\n",
    "    # # Эмоджи и эмотиконы: используем собственную функцию для преобразования эмоджи в текст\n",
    "    # # Важно понимать эмоциональную окраску обрабатываемого текста\n",
    "    # clean_text = emojis_words(clean_text)\n",
    "    \n",
    "    # Приводим все входные данные к нижнему регистру\n",
    "    clean_text = clean_text.lower()\n",
    "\n",
    "    # Убираем все пробелы\n",
    "    # Так как все данные теперь представлены словами - удалим пробелы\n",
    "    # clean_text = re.sub('\\s+', ' ', clean_text)\n",
    "\n",
    "    # # Преобразование символов с диакритическими знаками к ASCII-символам: используем функцию normalize из модуля unicodedata и преобразуем символы с диакритическими знаками к ASCII-символам\n",
    "    # clean_text = unicodedata.normalize('NFKD', clean_text).encode('ascii', 'ignore').decode('utf-8', 'ignore')\n",
    "\n",
    "    # # Разворачиваем сокращения: текст часто содержит конструкции вроде \"don't\" или \"won't\", поэтому развернём подобные сокращения\n",
    "    # clean_text = contractions.fix(clean_text)\n",
    "\n",
    "    # Убираем специальные символы: избавляемся от всего, что не является \"словами\"\n",
    "    clean_text = re.sub('[^a-zA-Z0-9а-яА-Я\\s]', '', clean_text)\n",
    "\n",
    "    # Записываем числа прописью: 100 превращается в \"сто\" (для компьютера)\n",
    "    temp = inflect.engine()\n",
    "    words = []\n",
    "    for word in clean_text.split():\n",
    "        if word.isdigit():\n",
    "            words.append(temp.number_to_words(word))\n",
    "        else:\n",
    "            words.append(word)\n",
    "    clean_text = ' '.join(words)\n",
    "\n",
    "    # # Стоп-слова: удаление стоп-слов - это стандартная практика очистки текстов\n",
    "    # stop_words = set(stopwords.words('russian'))\n",
    "    # tokens = word_tokenize(clean_text)\n",
    "    # tokens = [token for token in tokens if token not in stop_words]\n",
    "    # clean_text = ' '.join(tokens)\n",
    "\n",
    "    # # Знаки препинания: далее - удаляем из текста все знаки препинания\n",
    "    # clean_text = re.sub(r'[^\\w\\s]', '', clean_text)\n",
    "\n",
    "    # И наконец - возвращаем очищенный текст\n",
    "    return clean_text"
   ]
  },
  {
   "cell_type": "code",
   "execution_count": 58,
   "id": "ae580f6c-c6a6-418c-b972-e24eaefd1eb9",
   "metadata": {},
   "outputs": [],
   "source": [
    "dataset['Description_cleaned'] = dataset['Description'].apply(clean_text)"
   ]
  },
  {
   "cell_type": "code",
   "execution_count": null,
   "id": "df0e647e-fdf8-49eb-8a22-e0b88d8a279f",
   "metadata": {},
   "outputs": [],
   "source": []
  }
 ],
 "metadata": {
  "kernelspec": {
   "display_name": "Python 3 (ipykernel)",
   "language": "python",
   "name": "python3"
  },
  "language_info": {
   "codemirror_mode": {
    "name": "ipython",
    "version": 3
   },
   "file_extension": ".py",
   "mimetype": "text/x-python",
   "name": "python",
   "nbconvert_exporter": "python",
   "pygments_lexer": "ipython3",
   "version": "3.12.2"
  }
 },
 "nbformat": 4,
 "nbformat_minor": 5
}
